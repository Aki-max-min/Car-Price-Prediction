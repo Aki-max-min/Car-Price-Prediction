{
 "cells": [
  {
   "cell_type": "code",
   "execution_count": 3,
   "metadata": {},
   "outputs": [],
   "source": [
    "import numpy as np\n",
    "import math\n",
    "\n",
    "data = np.array([\n",
    "    [3, 22000, 1, 1],\n",
    "    [6, 75000, 0, 0],\n",
    "    [2, 14000, 1, 1],\n",
    "    [8, 85000, 0, 0],\n",
    "    [4, 50000, 1, 1]\n",
    "])\n",
    "\n",
    "X = data[:, :-1]\n",
    "y = data[:, -1]"
   ]
  },
  {
   "cell_type": "code",
   "execution_count": 4,
   "metadata": {},
   "outputs": [
    {
     "name": "stdout",
     "output_type": "stream",
     "text": [
      "Initial Entropy: 0.9710\n"
     ]
    }
   ],
   "source": [
    "# Step 1: Calculate Entropy\n",
    "def calculate_entropy(y):\n",
    "    p1 = np.sum(y == 1) / len(y)\n",
    "    p0 = np.sum(y == 0) / len(y)\n",
    "    if p1 == 0 or p0 == 0:\n",
    "        return 0\n",
    "    return - (p1 * math.log2(p1) + p0 * math.log2(p0))\n",
    "\n",
    "# Initial entropy of the dataset\n",
    "initial_entropy = calculate_entropy(y)\n",
    "print(f\"Initial Entropy: {initial_entropy:.4f}\")\n"
   ]
  },
  {
   "cell_type": "code",
   "execution_count": null,
   "metadata": {},
   "outputs": [],
   "source": [
    "# Step 2: Calculate Information Gain for each feature\n",
    "def calculate_information_gain(X, y, feature_index):\n",
    "    unique_values = np.unique(X[:, feature_index])\n",
    "    weighted_entropy = 0\n",
    "    \n",
    "    for value in unique_values:\n",
    "        subset_y = y[X[:, feature_index] == value]\n",
    "        subset_entropy = calculate_entropy(subset_y)\n",
    "        weight = len(subset_y) / len(y)\n",
    "        weighted_entropy += weight * subset_entropy\n",
    "        \n",
    "    info_gain = initial_entropy - weighted_entropy\n",
    "    return info_gain"
   ]
  },
  {
   "cell_type": "code",
   "execution_count": null,
   "metadata": {},
   "outputs": [
    {
     "name": "stdout",
     "output_type": "stream",
     "text": [
      "Information Gain for Feature 0: 0.9710\n",
      "Information Gain for Feature 1: 0.9710\n",
      "Information Gain for Feature 2: 0.9710\n",
      "Best Feature Index: 0\n"
     ]
    }
   ],
   "source": [
    "# Calculate IG for all features\n",
    "info_gains = []\n",
    "for i in range(X.shape[1]):\n",
    "    ig = calculate_information_gain(X, y, i)\n",
    "    info_gains.append(ig)\n",
    "    print(f\"Information Gain for Feature {i}: {ig:.4f}\")\n",
    "\n",
    "# Step 3: Choose Best Feature\n",
    "best_feature_index = np.argmax(info_gains)\n",
    "print(f\"Best Feature Index: {best_feature_index}\")"
   ]
  },
  {
   "cell_type": "code",
   "execution_count": null,
   "metadata": {},
   "outputs": [],
   "source": [
    "# Step 4: Build Simple Decision Tree \n",
    "def predict(x):\n",
    "    return 1 if x[best_feature_index] == 1 else 0\n",
    "\n",
    "# Predict on training data\n",
    "y_pred = np.array([predict(x) for x in X])"
   ]
  },
  {
   "cell_type": "code",
   "execution_count": null,
   "metadata": {},
   "outputs": [],
   "source": [
    "# Step 5: Calculate Confusion Matrix\n",
    "TP = np.sum((y == 1) & (y_pred == 1))\n",
    "FP = np.sum((y == 0) & (y_pred == 1))\n",
    "TN = np.sum((y == 0) & (y_pred == 0))\n",
    "FN = np.sum((y == 1) & (y_pred == 0))\n"
   ]
  },
  {
   "cell_type": "code",
   "execution_count": null,
   "metadata": {},
   "outputs": [],
   "source": [
    "# Step 6: Evaluation Metrics\n",
    "accuracy = (TP + TN) / (TP + FP + TN + FN)\n",
    "precision = TP / (TP + FP) if (TP + FP) > 0 else 0\n",
    "recall = TP / (TP + FN) if (TP + FN) > 0 else 0\n",
    "f1_score = (2 * precision * recall) / (precision + recall) if (precision + recall) > 0 else 0\n"
   ]
  },
  {
   "cell_type": "code",
   "execution_count": null,
   "metadata": {},
   "outputs": [
    {
     "name": "stdout",
     "output_type": "stream",
     "text": [
      "\n",
      "Confusion Matrix:\n",
      "TP=0, FP=0, TN=2, FN=3\n",
      "Accuracy: 0.4000\n",
      "Precision: 0.0000\n",
      "Recall: 0.0000\n",
      "F1-Score: 0.0000\n"
     ]
    }
   ],
   "source": [
    "print(\"\\nConfusion Matrix:\")\n",
    "print(f\"TP={TP}, FP={FP}, TN={TN}, FN={FN}\")\n",
    "print(f\"Accuracy: {accuracy:.4f}\")\n",
    "print(f\"Precision: {precision:.4f}\")\n",
    "print(f\"Recall: {recall:.4f}\")\n",
    "print(f\"F1-Score: {f1_score:.4f}\")"
   ]
  }
 ],
 "metadata": {
  "kernelspec": {
   "display_name": "ML",
   "language": "python",
   "name": "python3"
  },
  "language_info": {
   "codemirror_mode": {
    "name": "ipython",
    "version": 3
   },
   "file_extension": ".py",
   "mimetype": "text/x-python",
   "name": "python",
   "nbconvert_exporter": "python",
   "pygments_lexer": "ipython3",
   "version": "3.12.5"
  }
 },
 "nbformat": 4,
 "nbformat_minor": 2
}
