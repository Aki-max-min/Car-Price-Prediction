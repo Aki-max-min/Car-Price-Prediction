{
 "cells": [
  {
   "cell_type": "code",
   "execution_count": 4,
   "metadata": {},
   "outputs": [],
   "source": [
    "# Dataset: [Car Age, Mileage, Fuel Type]\n",
    "X = np.array([\n",
    "    [3, 22000, 1],\n",
    "    [6, 75000, 0],\n",
    "    [2, 14000, 1],\n",
    "    [8, 85000, 0],\n",
    "    [4, 50000, 1]\n",
    "], dtype=float)\n",
    "\n",
    "# Target: Price Category (0 or 1)\n",
    "y = np.array([1, 0, 1, 0, 1])\n"
   ]
  },
  {
   "cell_type": "code",
   "execution_count": 6,
   "metadata": {},
   "outputs": [
    {
     "name": "stdout",
     "output_type": "stream",
     "text": [
      "KNN Accuracy: 0.5\n"
     ]
    }
   ],
   "source": [
    "import numpy as np\n",
    "\n",
    "def euclidean_distance(a, b):\n",
    "    return np.sqrt(np.sum((a - b) ** 2))\n",
    "\n",
    "def knn_predict(X_train, y_train, x_test, k=3):\n",
    "    distances = [euclidean_distance(x_test, x_train) for x_train in X_train]\n",
    "    k_indices = np.argsort(distances)[:k]\n",
    "    k_nearest_labels = [y_train[i] for i in k_indices]\n",
    "    return int(np.round(np.mean(k_nearest_labels)))\n",
    "\n",
    "X_train = X[:3]\n",
    "y_train = y[:3]\n",
    "X_test = X[3:]\n",
    "y_test = y[3:]\n",
    "\n",
    "predictions = [knn_predict(X_train, y_train, x) for x in X_test]\n",
    "accuracy = np.mean(predictions == y_test)\n",
    "print(\"KNN Accuracy:\", accuracy)\n"
   ]
  }
 ],
 "metadata": {
  "kernelspec": {
   "display_name": "ML",
   "language": "python",
   "name": "python3"
  },
  "language_info": {
   "codemirror_mode": {
    "name": "ipython",
    "version": 3
   },
   "file_extension": ".py",
   "mimetype": "text/x-python",
   "name": "python",
   "nbconvert_exporter": "python",
   "pygments_lexer": "ipython3",
   "version": "3.12.5"
  }
 },
 "nbformat": 4,
 "nbformat_minor": 2
}
