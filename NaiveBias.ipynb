{
 "cells": [
  {
   "cell_type": "code",
   "execution_count": 41,
   "metadata": {},
   "outputs": [],
   "source": [
    "import numpy as np\n",
    "\n",
    "# Small dataset: [Car Age, Mileage, Fuel Type (0=Petrol, 1=Diesel), Price Category (0=Low, 1=High)]\n",
    "data = np.array([\n",
    "    [3, 22000, 1, 1],\n",
    "    [6, 75000, 0, 0],\n",
    "    [2, 14000, 1, 1],\n",
    "    [8, 85000, 0, 0],\n",
    "    [4, 50000, 1, 1]\n",
    "])\n"
   ]
  },
  {
   "cell_type": "code",
   "execution_count": null,
   "metadata": {},
   "outputs": [],
   "source": [
    "# Splitting features and labels\n",
    "X = data[:, :-1].astype(float)  # Features (Car Age, Mileage, Fuel Type)\n",
    "y = data[:, -1]   # Labels (Price Category)\n",
    "\n",
    "#  Normalization\n",
    "X[:, 1] = (X[:, 1] - np.mean(X[:, 1])) / np.std(X[:, 1])"
   ]
  },
  {
   "cell_type": "code",
   "execution_count": null,
   "metadata": {},
   "outputs": [],
   "source": [
    "#  prior probabilities\n",
    "p_high = np.sum(y == 1) / len(y)\n",
    "p_low = np.sum(y == 0) / len(y)\n",
    "\n",
    "var_smoothing = 1e-6"
   ]
  },
  {
   "cell_type": "code",
   "execution_count": null,
   "metadata": {},
   "outputs": [],
   "source": [
    "\n",
    "mean_high = np.mean(X[y == 1], axis=0)\n",
    "var_high = np.var(X[y == 1], axis=0) + var_smoothing\n",
    "\n",
    "mean_low = np.mean(X[y == 0], axis=0)\n",
    "var_low = np.var(X[y == 0], axis=0) + var_smoothing\n"
   ]
  },
  {
   "cell_type": "code",
   "execution_count": null,
   "metadata": {},
   "outputs": [],
   "source": [
    "\n",
    "def gaussian_pdf(x, mean, var):\n",
    "    return (1 / np.sqrt(2 * np.pi * var)) * np.exp(-((x - mean) ** 2) / (2 * var))"
   ]
  },
  {
   "cell_type": "code",
   "execution_count": null,
   "metadata": {},
   "outputs": [],
   "source": [
    "\n",
    "def predict(X_test):\n",
    "    predictions = []\n",
    "    for x in X_test:\n",
    "        # Calculate likelihood\n",
    "        p_x_given_high = np.prod(gaussian_pdf(x, mean_high, var_high))\n",
    "        p_x_given_low = np.prod(gaussian_pdf(x, mean_low, var_low))\n",
    "\n",
    "        # Compute posterior probabilities\n",
    "        p_high_given_x = p_x_given_high * p_high\n",
    "        p_low_given_x = p_x_given_low * p_low\n",
    "\n",
    "        # Predict the class with higher probability\n",
    "        predictions.append(1 if p_high_given_x > p_low_given_x else 0)\n",
    "    return np.array(predictions)"
   ]
  },
  {
   "cell_type": "code",
   "execution_count": null,
   "metadata": {},
   "outputs": [],
   "source": [
    "\n",
    "y_pred = predict(X)"
   ]
  },
  {
   "cell_type": "code",
   "execution_count": null,
   "metadata": {},
   "outputs": [],
   "source": [
    "\n",
    "TP = np.sum((y == 1) & (y_pred == 1))\n",
    "FP = np.sum((y == 0) & (y_pred == 1))\n",
    "TN = np.sum((y == 0) & (y_pred == 0))\n",
    "FN = np.sum((y == 1) & (y_pred == 0))\n"
   ]
  },
  {
   "cell_type": "code",
   "execution_count": null,
   "metadata": {},
   "outputs": [],
   "source": [
    "\n",
    "accuracy = (TP + TN) / (TP + FP + TN + FN)\n",
    "precision = TP / (TP + FP) if (TP + FP) > 0 else 0\n",
    "recall = TP / (TP + FN) if (TP + FN) > 0 else 0\n",
    "f1_score = (2 * precision * recall) / (precision + recall) if (precision + recall) > 0 else 0\n"
   ]
  },
  {
   "cell_type": "code",
   "execution_count": null,
   "metadata": {},
   "outputs": [
    {
     "name": "stdout",
     "output_type": "stream",
     "text": [
      "Naïve Bayes Evaluation Metrics:\n",
      "Confusion Matrix: TP=3, FP=0, TN=2, FN=0\n",
      "Accuracy: 1.00\n",
      "Precision: 1.00\n",
      "Recall: 1.00\n",
      "F1-score: 1.00\n"
     ]
    }
   ],
   "source": [
    "\n",
    "print(\"Naïve Bayes Evaluation Metrics:\")\n",
    "print(f\"Confusion Matrix: TP={TP}, FP={FP}, TN={TN}, FN={FN}\")\n",
    "print(f\"Accuracy: {accuracy:.2f}\")\n",
    "print(f\"Precision: {precision:.2f}\")\n",
    "print(f\"Recall: {recall:.2f}\")\n",
    "print(f\"F1-score: {f1_score:.2f}\")"
   ]
  },
  {
   "cell_type": "code",
   "execution_count": null,
   "metadata": {},
   "outputs": [
    {
     "name": "stdout",
     "output_type": "stream",
     "text": [
      "\n",
      "Manual Calculations:\n",
      "Prior Probability P(High): 0.60, P(Low): 0.40\n",
      "Mean for High Price Class: [ 3.         -0.73269811  1.        ]\n",
      "Variance for High Price Class: [6.66667667e-01 3.03329693e-01 1.00000000e-06]\n",
      "Mean for Low Price Class: [7.         1.09904716 0.        ]\n",
      "Variance for Low Price Class: [1.00000100e+00 3.18335354e-02 1.00000000e-06]\n"
     ]
    }
   ],
   "source": [
    "\n",
    "print(\"\\nManual Calculations:\")\n",
    "print(f\"Prior Probability P(High): {p_high:.2f}, P(Low): {p_low:.2f}\")\n",
    "print(f\"Mean for High Price Class: {mean_high}\")\n",
    "print(f\"Variance for High Price Class: {var_high}\")\n",
    "print(f\"Mean for Low Price Class: {mean_low}\")\n",
    "print(f\"Variance for Low Price Class: {var_low}\")"
   ]
  },
  {
   "cell_type": "code",
   "execution_count": 52,
   "metadata": {},
   "outputs": [],
   "source": [
    "import matplotlib.pyplot as plt\n",
    "import seaborn as sns"
   ]
  },
  {
   "cell_type": "code",
   "execution_count": null,
   "metadata": {},
   "outputs": [
    {
     "data": {
      "image/png": "[encoded data removed]",
      "text/plain": [
       "<Figure size 640x480 with 2 Axes>"
      ]
     },
     "metadata": {},
     "output_type": "display_data"
    }
   ],
   "source": [
    "\n",
    "conf_matrix = np.array([[TN, FP], [FN, TP]])\n",
    "sns.heatmap(conf_matrix, annot=True, fmt='d', cmap='Blues', xticklabels=['Predicted Low', 'Predicted High'], yticklabels=['Actual Low', 'Actual High'])\n",
    "plt.title('Confusion Matrix')\n",
    "plt.xlabel('Predicted')\n",
    "plt.ylabel('Actual')\n",
    "plt.show()"
   ]
  }
 ],
 "metadata": {
  "kernelspec": {
   "display_name": "ML",
   "language": "python",
   "name": "python3"
  },
  "language_info": {
   "codemirror_mode": {
    "name": "ipython",
    "version": 3
   },
   "file_extension": ".py",
   "mimetype": "text/x-python",
   "name": "python",
   "nbconvert_exporter": "python",
   "pygments_lexer": "ipython3",
   "version": "3.12.5"
  }
 },
 "nbformat": 4,
 "nbformat_minor": 2
}
