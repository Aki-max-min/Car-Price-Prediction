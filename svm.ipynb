{
 "cells": [
  {
   "cell_type": "code",
   "execution_count": 2,
   "metadata": {},
   "outputs": [],
   "source": [
    "import numpy as np\n",
    "# Dataset: [Car Age, Mileage, Fuel Type]\n",
    "X = np.array([\n",
    "    [3, 22000, 1],\n",
    "    [6, 75000, 0],\n",
    "    [2, 14000, 1],\n",
    "    [8, 85000, 0],\n",
    "    [4, 50000, 1]\n",
    "], dtype=float)\n",
    "\n",
    "# Target: Price Category (0 or 1)\n",
    "y = np.array([1, 0, 1, 0, 1])\n"
   ]
  },
  {
   "cell_type": "code",
   "execution_count": 3,
   "metadata": {},
   "outputs": [
    {
     "name": "stdout",
     "output_type": "stream",
     "text": [
      "SVM Accuracy: 0.4\n"
     ]
    }
   ],
   "source": [
    "X_svm = X\n",
    "y_svm = np.where(y == 0, -1, 1)\n",
    "\n",
    "w = np.zeros(X_svm.shape[1])\n",
    "b = 0\n",
    "alpha = 0.000000001\n",
    "epochs = 1000\n",
    "\n",
    "for _ in range(epochs):\n",
    "    for i in range(len(X_svm)):\n",
    "        x_i = X_svm[i]\n",
    "        condition = y_svm[i] * (np.dot(w, x_i) + b) >= 1\n",
    "        if condition:\n",
    "            w -= alpha * (2 * w)\n",
    "        else:\n",
    "            w -= alpha * (2 * w - np.dot(x_i, y_svm[i]))\n",
    "            b -= alpha * y_svm[i]\n",
    "\n",
    "def svm_predict(x):\n",
    "    return 1 if np.dot(w, x) + b >= 0 else 0\n",
    "\n",
    "y_pred = [svm_predict(x) for x in X_svm]\n",
    "y_true = np.where(y_svm == -1, 0, 1)\n",
    "accuracy = np.mean(y_pred == y_true)\n",
    "print(\"SVM Accuracy:\", accuracy)\n"
   ]
  },
  {
   "cell_type": "code",
   "execution_count": 1,
   "metadata": {},
   "outputs": [
    {
     "name": "stderr",
     "output_type": "stream",
     "text": [
      "/home/akshita/miniconda3/envs/ML/lib/python3.12/site-packages/sklearn/metrics/_classification.py:1531: UndefinedMetricWarning: Precision is ill-defined and being set to 0.0 due to no predicted samples. Use `zero_division` parameter to control this behavior.\n",
      "  _warn_prf(average, modifier, f\"{metric.capitalize()} is\", len(result))\n"
     ]
    },
    {
     "data": {
      "text/plain": [
       "(array([[2, 0],\n",
       "        [3, 0]]),\n",
       " 0.4,\n",
       " 0.0,\n",
       " 0.0,\n",
       " 0.0)"
      ]
     },
     "execution_count": 1,
     "metadata": {},
     "output_type": "execute_result"
    }
   ],
   "source": [
    "import numpy as np\n",
    "from sklearn.metrics import confusion_matrix, precision_score, recall_score, f1_score, accuracy_score\n",
    "import matplotlib.pyplot as plt\n",
    "import seaborn as sns\n",
    "\n",
    "# Dataset: [Car Age, Mileage, Fuel Type]\n",
    "X = np.array([\n",
    "    [3, 22000, 1],\n",
    "    [6, 75000, 0],\n",
    "    [2, 14000, 1],\n",
    "    [8, 85000, 0],\n",
    "    [4, 50000, 1]\n",
    "], dtype=float)\n",
    "\n",
    "# Target: Price Category (0 or 1)\n",
    "y = np.array([1, 0, 1, 0, 1])\n",
    "X_svm = X\n",
    "y_svm = np.where(y == 0, -1, 1)\n",
    "\n",
    "# Initialize parameters\n",
    "w = np.zeros(X_svm.shape[1])\n",
    "b = 0\n",
    "alpha = 0.000000001\n",
    "epochs = 1000\n",
    "\n",
    "# Training loop\n",
    "for _ in range(epochs):\n",
    "    for i in range(len(X_svm)):\n",
    "        x_i = X_svm[i]\n",
    "        condition = y_svm[i] * (np.dot(w, x_i) + b) >= 1\n",
    "        if condition:\n",
    "            w -= alpha * (2 * w)\n",
    "        else:\n",
    "            w -= alpha * (2 * w - np.dot(x_i, y_svm[i]))\n",
    "            b -= alpha * y_svm[i]\n",
    "\n",
    "# Prediction function\n",
    "def svm_predict(x):\n",
    "    return 1 if np.dot(w, x) + b >= 0 else 0\n",
    "\n",
    "# Predict on dataset\n",
    "y_pred = [svm_predict(x) for x in X_svm]\n",
    "y_true = np.where(y_svm == -1, 0, 1)\n",
    "\n",
    "# Metrics\n",
    "conf_matrix = confusion_matrix(y_true, y_pred)\n",
    "accuracy = accuracy_score(y_true, y_pred)\n",
    "precision = precision_score(y_true, y_pred)\n",
    "recall = recall_score(y_true, y_pred)\n",
    "f1 = f1_score(y_true, y_pred)\n",
    "\n",
    "conf_matrix, accuracy, precision, recall, f1\n"
   ]
  },
  {
   "cell_type": "code",
   "execution_count": null,
   "metadata": {},
   "outputs": [],
   "source": []
  }
 ],
 "metadata": {
  "kernelspec": {
   "display_name": "ML",
   "language": "python",
   "name": "python3"
  },
  "language_info": {
   "codemirror_mode": {
    "name": "ipython",
    "version": 3
   },
   "file_extension": ".py",
   "mimetype": "text/x-python",
   "name": "python",
   "nbconvert_exporter": "python",
   "pygments_lexer": "ipython3",
   "version": "3.12.5"
  }
 },
 "nbformat": 4,
 "nbformat_minor": 2
}
