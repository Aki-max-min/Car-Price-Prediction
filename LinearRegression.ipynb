{
 "cells": [
  {
   "cell_type": "code",
   "execution_count": null,
   "metadata": {},
   "outputs": [
    {
     "name": "stdout",
     "output_type": "stream",
     "text": [
      "Mean of Mileage: 49200.0\n",
      "Standard Deviation of Mileage: 28024.27519134081\n",
      "Normalized Data:\n",
      " [[ 3  0  1  1]\n",
      " [ 6  0  0  0]\n",
      " [ 2 -1  1  1]\n",
      " [ 8  1  0  0]\n",
      " [ 4  0  1  1]]\n"
     ]
    }
   ],
   "source": [
    "import numpy as np\n",
    "data = np.array([\n",
    "    [3, 22000, 1, 1],\n",
    "    [6, 75000, 0, 0],\n",
    "    [2, 14000, 1, 1],\n",
    "    [8, 85000, 0, 0],\n",
    "    [4, 50000, 1, 1]\n",
    "])\n",
    "\n",
    "\n",
    "mileage = data[:, 1]\n",
    "\n",
    "# Calculate Mean and Standard Deviation\n",
    "mean_mileage = np.mean(mileage)\n",
    "std_mileage = np.std(mileage)\n",
    "\n",
    "# Perform Z-Score Normalization\n",
    "normalized_mileage = (mileage - mean_mileage) / std_mileage\n",
    "\n",
    "# Replace Original Mileage with Normalized Mileage\n",
    "data[:, 1] = normalized_mileage\n",
    "\n",
    "print(\"Mean of Mileage:\", mean_mileage)\n",
    "print(\"Standard Deviation of Mileage:\", std_mileage)\n",
    "print(\"Normalized Data:\\n\", data)\n"
   ]
  },
  {
   "cell_type": "code",
   "execution_count": null,
   "metadata": {},
   "outputs": [
    {
     "name": "stdout",
     "output_type": "stream",
     "text": [
      "\n",
      "Error Metrics:\n",
      "Mean Squared Error (MSE): 0.1404\n",
      "Root Mean Squared Error (RMSE): 0.3746\n",
      "Mean Absolute Error (MAE): 0.2640\n",
      "R-Squared (R²): 0.4152\n"
     ]
    }
   ],
   "source": [
    "import numpy as np\n",
    "\n",
    "X = np.array([\n",
    "    [3, -0.93, 1],\n",
    "    [6, 0.88, 0],\n",
    "    [2, -1.20, 1],\n",
    "    [8, 1.23, 0],\n",
    "    [4, 0.03, 1]\n",
    "])\n",
    "\n",
    "y = np.array([1, 0, 1, 0, 1])\n",
    "\n",
    "\n",
    "y_pred = np.array([1.02, 0.62, 1.12, 0.55, 1.01])\n",
    "\n",
    "errors = y - y_pred\n",
    "\n",
    "# MSE\n",
    "mse = np.mean(errors ** 2)\n",
    "\n",
    "# RMSE\n",
    "rmse = np.sqrt(mse)\n",
    "\n",
    "# MAE\n",
    "mae = np.mean(np.abs(errors))\n",
    "\n",
    "# R-Squared (R²)\n",
    "y_mean = np.mean(y)\n",
    "ss_total = np.sum((y - y_mean) ** 2)\n",
    "ss_residual = np.sum((y - y_pred) ** 2)\n",
    "r_squared = 1 - (ss_residual / ss_total)\n",
    "\n",
    "print(\"\\nError Metrics:\")\n",
    "print(f\"Mean Squared Error (MSE): {mse:.4f}\")\n",
    "print(f\"Root Mean Squared Error (RMSE): {rmse:.4f}\")\n",
    "print(f\"Mean Absolute Error (MAE): {mae:.4f}\")\n",
    "print(f\"R-Squared (R²): {r_squared:.4f}\")\n"
   ]
  }
 ],
 "metadata": {
  "kernelspec": {
   "display_name": "ML",
   "language": "python",
   "name": "python3"
  },
  "language_info": {
   "codemirror_mode": {
    "name": "ipython",
    "version": 3
   },
   "file_extension": ".py",
   "mimetype": "text/x-python",
   "name": "python",
   "nbconvert_exporter": "python",
   "pygments_lexer": "ipython3",
   "version": "3.12.5"
  }
 },
 "nbformat": 4,
 "nbformat_minor": 2
}
