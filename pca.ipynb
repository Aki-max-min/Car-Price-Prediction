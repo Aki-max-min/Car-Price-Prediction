{
 "cells": [
  {
   "cell_type": "code",
   "execution_count": 1,
   "metadata": {},
   "outputs": [
    {
     "name": "stdout",
     "output_type": "stream",
     "text": [
      "Reduced X (PCA):\n",
      " [[ 1.46060919 -0.02977285]\n",
      " [-1.6093965  -0.3597175 ]\n",
      " [ 1.89708745 -0.31961626]\n",
      " [-2.35803385  0.12179788]\n",
      " [ 0.60973371  0.58730873]]\n"
     ]
    }
   ],
   "source": [
    "import numpy as np\n",
    "\n",
    "X = np.array([\n",
    "    [3, 22000, 1],\n",
    "    [6, 75000, 0],\n",
    "    [2, 14000, 1],\n",
    "    [8, 85000, 0],\n",
    "    [4, 50000, 1]\n",
    "], dtype=float)\n",
    "\n",
    "# Step 1: Standardize\n",
    "mean = np.mean(X, axis=0)\n",
    "std = np.std(X, axis=0)\n",
    "X_std = (X - mean) / std\n",
    "\n",
    "# Step 2: Covariance Matrix\n",
    "cov_matrix = np.cov(X_std.T)\n",
    "\n",
    "# Step 3: Eigen decomposition\n",
    "eigen_values, eigen_vectors = np.linalg.eig(cov_matrix)\n",
    "\n",
    "# Step 4: Sort eigenvalues and eigenvectors\n",
    "idx = np.argsort(eigen_values)[::-1]\n",
    "eigen_values = eigen_values[idx]\n",
    "eigen_vectors = eigen_vectors[:, idx]\n",
    "\n",
    "# Step 5: Project onto top 2 components\n",
    "X_pca = np.dot(X_std, eigen_vectors[:, :2])\n",
    "print(\"Reduced X (PCA):\\n\", X_pca)\n"
   ]
  }
 ],
 "metadata": {
  "kernelspec": {
   "display_name": "ML",
   "language": "python",
   "name": "python3"
  },
  "language_info": {
   "codemirror_mode": {
    "name": "ipython",
    "version": 3
   },
   "file_extension": ".py",
   "mimetype": "text/x-python",
   "name": "python",
   "nbconvert_exporter": "python",
   "pygments_lexer": "ipython3",
   "version": "3.12.5"
  }
 },
 "nbformat": 4,
 "nbformat_minor": 2
}
