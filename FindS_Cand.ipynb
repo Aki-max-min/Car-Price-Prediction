{
 "cells": [
  {
   "cell_type": "code",
   "execution_count": 2,
   "metadata": {},
   "outputs": [
    {
     "name": "stdout",
     "output_type": "stream",
     "text": [
      "Find-S Hypothesis: ['?' '?' 1]\n",
      "Final Specific Hypothesis (S): ['?' '?' 1]\n",
      "Final General Hypothesis (G): [['?', '?', 1], ['?', '?', 1]]\n"
     ]
    }
   ],
   "source": [
    "import numpy as np\n",
    "\n",
    "data = np.array([\n",
    "    [3, 22000, 1, 1],\n",
    "    [6, 75000, 0, 0],\n",
    "    [2, 14000, 1, 1],\n",
    "    [8, 85000, 0, 0],\n",
    "    [4, 50000, 1, 1]\n",
    "])\n",
    "\n",
    "X = data[:, :-1]\n",
    "y = data[:, -1]\n",
    "\n",
    "# Convert X to object dtype to store '?'\n",
    "X = X.astype(object)\n",
    "\n",
    "# Find-S Algorithm\n",
    "def find_s(X, y):\n",
    "    hypothesis = X[0].copy()\n",
    "    for i in range(len(X)):\n",
    "        if y[i] == 1:\n",
    "            for j in range(len(X[i])):\n",
    "                if hypothesis[j] != X[i][j]:\n",
    "                    hypothesis[j] = '?'\n",
    "    return hypothesis\n",
    "\n",
    "# Candidate Elimination Algorithm\n",
    "def candidate_elimination(X, y):\n",
    "    S = X[0].copy()\n",
    "    G = [['?' for _ in range(len(S))]]\n",
    "\n",
    "    for i in range(len(X)):\n",
    "        if y[i] == 1:\n",
    "            # Generalize S\n",
    "            for j in range(len(S)):\n",
    "                if S[j] != X[i][j]:\n",
    "                    S[j] = '?'\n",
    "            G = [g for g in G if all((g[k] == '?' or g[k] == X[i][k]) for k in range(len(S)))]\n",
    "        else:\n",
    "            # Specialize G\n",
    "            G_new = []\n",
    "            for g in G:\n",
    "                for j in range(len(S)):\n",
    "                    if g[j] == '?':\n",
    "                        new_g = g.copy()\n",
    "                        new_g[j] = S[j]\n",
    "                        G_new.append(new_g)\n",
    "            G = G_new\n",
    "    return S, G\n",
    "\n",
    "print(\"Find-S Hypothesis:\", find_s(X, y))\n",
    "S_final, G_final = candidate_elimination(X, y)\n",
    "print(\"Final Specific Hypothesis (S):\", S_final)\n",
    "print(\"Final General Hypothesis (G):\", G_final)\n"
   ]
  }
 ],
 "metadata": {
  "kernelspec": {
   "display_name": "ML",
   "language": "python",
   "name": "python3"
  },
  "language_info": {
   "codemirror_mode": {
    "name": "ipython",
    "version": 3
   },
   "file_extension": ".py",
   "mimetype": "text/x-python",
   "name": "python",
   "nbconvert_exporter": "python",
   "pygments_lexer": "ipython3",
   "version": "3.12.5"
  }
 },
 "nbformat": 4,
 "nbformat_minor": 2
}
